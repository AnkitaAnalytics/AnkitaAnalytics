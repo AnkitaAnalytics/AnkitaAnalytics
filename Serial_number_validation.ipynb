{
  "nbformat": 4,
  "nbformat_minor": 0,
  "metadata": {
    "colab": {
      "provenance": [],
      "authorship_tag": "ABX9TyNrW8c81mcdbPxyJ0pK9k2C",
      "include_colab_link": true
    },
    "kernelspec": {
      "name": "python3",
      "display_name": "Python 3"
    },
    "language_info": {
      "name": "python"
    }
  },
  "cells": [
    {
      "cell_type": "markdown",
      "metadata": {
        "id": "view-in-github",
        "colab_type": "text"
      },
      "source": [
        "<a href=\"https://colab.research.google.com/github/AnkitaAnalytics/AnkitaAnalytics/blob/main/Serial_number_validation.ipynb\" target=\"_parent\"><img src=\"https://colab.research.google.com/assets/colab-badge.svg\" alt=\"Open In Colab\"/></a>"
      ]
    },
    {
      "cell_type": "markdown",
      "source": [
        "**Spot the attackers**\n",
        "\n",
        "**Description**\n",
        "Jay and Veeru are in the village Rampur, surrounded by dacoits from all sides. Every day, the village receives supplies in trucks. To ensure that the trucks contain legitimate supplies and not dangerous explosives from the dacoits, each truck is given a serial number.\n",
        "\n",
        "The serial number is of the format DDXDDD-DD.\n",
        "*   'D' denotes a digit from 0-9 (inclusive).\n",
        "*   'X' denotes a letter from A-Z (all uppercase).\n",
        "\n",
        "To ensure validity of these serial numbers, they have to follow two rules:\n",
        "The sum of all digits in the serial number should be even.\n",
        "The letter should be a vowel, or in the list ['A', 'E', 'I', 'O', 'U', 'Y'].\n",
        "\n",
        "If a truck follows these rules, it is to be labeled as 'valid', otherwise it is to be labeled 'invalid'.\n",
        "\n",
        "Input:\n",
        "A string containing serial number of a truck.\n",
        "Output:\n",
        "A string, either 'valid' or 'invalid'. (Without quotes)\n",
        "\n",
        "Sample input:\n",
        "13E122-32\n",
        "Sample output:\n",
        "valid\n"
      ],
      "metadata": {
        "id": "0Hpg3DCnsrZJ"
      }
    },
    {
      "cell_type": "code",
      "source": [
        "serial_no = str(input(\"Enter the serial number \"))\n",
        "valid_letters= ['A','E', 'I', 'O', 'U','Y']\n",
        "\n",
        "def find_validity():\n",
        "\n",
        "  # to check if the format is valid\n",
        "  if len(serial_no) !=9 or serial_no[2] not in valid_letters or serial_no[6] != '-':\n",
        "      return \"invalid\"\n",
        "\n",
        "  # to check if other parts matches the pattern\n",
        "  if not (serial_no[:2].isdigit() and serial_no[3:6].isdigit() and serial_no[7:]):\n",
        "      return \"invalid\"\n",
        "\n",
        "  # to check if the sum of digits are even or not\n",
        "\n",
        "  digit = [int(char) for char in serial_no if char.isdigit()]\n",
        "  if sum(digit) % 2 != 0:\n",
        "        return \"invalid\"\n",
        "\n",
        "  return \"valid\"\n",
        "\n",
        "\n",
        "print(find_validity())"
      ],
      "metadata": {
        "colab": {
          "base_uri": "https://localhost:8080/"
        },
        "id": "a-hkJo3UtBq6",
        "outputId": "9622bfde-105f-4418-ca99-a85e1fcd7495"
      },
      "execution_count": 3,
      "outputs": [
        {
          "output_type": "stream",
          "name": "stdout",
          "text": [
            "Enter the truck serial number 22S335-14\n",
            "invalid\n"
          ]
        }
      ]
    },
    {
      "cell_type": "code",
      "source": [],
      "metadata": {
        "id": "C6rr0Tk4tEal"
      },
      "execution_count": null,
      "outputs": []
    }
  ]
}